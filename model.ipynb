{
 "cells": [
  {
   "cell_type": "markdown",
   "id": "8faf13f9",
   "metadata": {},
   "source": [
    "## 🧠 1. Project Overview\n",
    "\n",
    "Your team has been hired as data science consultants for a news outlet to create classification models using Python and deploy them as a web application with Streamlit.  \n",
    "The goal is to apply **machine learning** and **natural language processing (NLP)** techniques to automatically categorize news articles into relevant topics such as **Business, Technology, Sports, Education, and Entertainment**.\n",
    "\n",
    "This project demonstrates the **end-to-end data science workflow**, including:\n",
    "- Data loading and initial exploration  \n",
    "- Text preprocessing and feature engineering  \n",
    "- Model training and validation  \n",
    "- Experiment tracking with MLflow  \n",
    "- Model deployment via Streamlit  \n",
    "\n",
    "### 🎯 Project Objective:\n",
    "To build a reliable text classification model that can accurately predict the category of a given news article and integrate it into a Streamlit web app for interactive use.\n",
    "\n",
    "### 👥 Stakeholders:\n",
    "- **Editorial Team** – interested in automated tagging and efficient content management.  \n",
    "- **IT & Data Teams** – focused on technical implementation and performance.  \n",
    "- **Readers & Management** – benefit from better content recommendations and searchability.\n"
   ]
  },
  {
   "cell_type": "code",
   "execution_count": 25,
   "id": "7e1cb512",
   "metadata": {},
   "outputs": [
    {
     "name": "stderr",
     "output_type": "stream",
     "text": [
      "[nltk_data] Downloading package punkt to\n",
      "[nltk_data]     C:\\Users\\lbarrett\\AppData\\Roaming\\nltk_data...\n",
      "[nltk_data]   Package punkt is already up-to-date!\n",
      "[nltk_data] Downloading package wordnet to\n",
      "[nltk_data]     C:\\Users\\lbarrett\\AppData\\Roaming\\nltk_data...\n",
      "[nltk_data]   Package wordnet is already up-to-date!\n",
      "[nltk_data] Downloading package stopwords to\n",
      "[nltk_data]     C:\\Users\\lbarrett\\AppData\\Roaming\\nltk_data...\n",
      "[nltk_data]   Package stopwords is already up-to-date!\n",
      "[nltk_data] Downloading package omw-1.4 to\n",
      "[nltk_data]     C:\\Users\\lbarrett\\AppData\\Roaming\\nltk_data...\n",
      "[nltk_data]   Package omw-1.4 is already up-to-date!\n",
      "[nltk_data] Downloading package punkt_tab to\n",
      "[nltk_data]     C:\\Users\\lbarrett\\AppData\\Roaming\\nltk_data...\n",
      "[nltk_data]   Package punkt_tab is already up-to-date!\n"
     ]
    },
    {
     "data": {
      "text/plain": [
       "True"
      ]
     },
     "execution_count": 25,
     "metadata": {},
     "output_type": "execute_result"
    }
   ],
   "source": [
    "import pandas as pd\n",
    "import numpy as np\n",
    "import re\n",
    "import nltk\n",
    "\n",
    "from sklearn.feature_extraction.text import TfidfVectorizer, CountVectorizer\n",
    "from sklearn.model_selection import train_test_split\n",
    "from sklearn.linear_model import LogisticRegression\n",
    "from sklearn.metrics import accuracy_score, classification_report, confusion_matrix, f1_score\n",
    "from sklearn.preprocessing import LabelEncoder\n",
    "\n",
    "from nltk.tokenize import word_tokenize\n",
    "from nltk.corpus import stopwords\n",
    "from nltk.stem import WordNetLemmatizer, PorterStemmer\n",
    "\n",
    "# Download necessary NLTK data\n",
    "nltk.download('punkt')\n",
    "nltk.download('wordnet')\n",
    "nltk.download('stopwords')\n",
    "nltk.download('omw-1.4')\n",
    "nltk.download('punkt_tab')"
   ]
  },
  {
   "cell_type": "markdown",
   "id": "24bfa7a5",
   "metadata": {},
   "source": [
    "## 📚 2. Data Overview\n",
    "\n",
    "The dataset consists of labeled news articles with five main categories:\n",
    "**Business, Technology, Sports, Education, and Entertainment.**\n",
    "\n",
    "Each record includes:\n",
    "| Column | Description |\n",
    "|---------|-------------|\n",
    "| **headlines** | The headline or title of the news article |\n",
    "| **description** | A short summary or teaser of the article |\n",
    "| **content** | The full text body of the article |\n",
    "| **category** | The target variable indicating the article’s topic |\n",
    "\n",
    "### 🔍 Data Insights\n",
    "- The text fields (*headlines*, *description*, and *content*) are combined into a single column called **data**, which forms the input to the NLP model.  \n",
    "- The **category** column serves as the label for supervised learning.  \n",
    "- The dataset is pre-divided into **train** and **test** sets, ensuring consistent evaluation.  \n",
    "\n",
    "This structured data allows us to apply text vectorization techniques such as **TF-IDF** to transform text into numerical features for machine learning.\n"
   ]
  },
  {
   "cell_type": "code",
   "execution_count": 26,
   "id": "b2463721",
   "metadata": {},
   "outputs": [
    {
     "data": {
      "text/html": [
       "<div>\n",
       "<style scoped>\n",
       "    .dataframe tbody tr th:only-of-type {\n",
       "        vertical-align: middle;\n",
       "    }\n",
       "\n",
       "    .dataframe tbody tr th {\n",
       "        vertical-align: top;\n",
       "    }\n",
       "\n",
       "    .dataframe thead th {\n",
       "        text-align: right;\n",
       "    }\n",
       "</style>\n",
       "<table border=\"1\" class=\"dataframe\">\n",
       "  <thead>\n",
       "    <tr style=\"text-align: right;\">\n",
       "      <th></th>\n",
       "      <th>headlines</th>\n",
       "      <th>description</th>\n",
       "      <th>content</th>\n",
       "      <th>url</th>\n",
       "      <th>category</th>\n",
       "    </tr>\n",
       "  </thead>\n",
       "  <tbody>\n",
       "    <tr>\n",
       "      <th>0</th>\n",
       "      <td>RBI revises definition of politically-exposed ...</td>\n",
       "      <td>The central bank has also asked chairpersons a...</td>\n",
       "      <td>The Reserve Bank of India (RBI) has changed th...</td>\n",
       "      <td>https://indianexpress.com/article/business/ban...</td>\n",
       "      <td>business</td>\n",
       "    </tr>\n",
       "    <tr>\n",
       "      <th>1</th>\n",
       "      <td>NDTV Q2 net profit falls 57.4% to Rs 5.55 cror...</td>\n",
       "      <td>NDTV's consolidated revenue from operations wa...</td>\n",
       "      <td>Broadcaster New Delhi Television Ltd on Monday...</td>\n",
       "      <td>https://indianexpress.com/article/business/com...</td>\n",
       "      <td>business</td>\n",
       "    </tr>\n",
       "    <tr>\n",
       "      <th>2</th>\n",
       "      <td>Akasa Air ‘well capitalised’, can grow much fa...</td>\n",
       "      <td>The initial share sale will be open for public...</td>\n",
       "      <td>Homegrown server maker Netweb Technologies Ind...</td>\n",
       "      <td>https://indianexpress.com/article/business/mar...</td>\n",
       "      <td>business</td>\n",
       "    </tr>\n",
       "    <tr>\n",
       "      <th>3</th>\n",
       "      <td>India’s current account deficit declines sharp...</td>\n",
       "      <td>The current account deficit (CAD) was 3.8 per ...</td>\n",
       "      <td>India’s current account deficit declined sharp...</td>\n",
       "      <td>https://indianexpress.com/article/business/eco...</td>\n",
       "      <td>business</td>\n",
       "    </tr>\n",
       "    <tr>\n",
       "      <th>4</th>\n",
       "      <td>States borrowing cost soars to 7.68%, highest ...</td>\n",
       "      <td>The prices shot up reflecting the overall high...</td>\n",
       "      <td>States have been forced to pay through their n...</td>\n",
       "      <td>https://indianexpress.com/article/business/eco...</td>\n",
       "      <td>business</td>\n",
       "    </tr>\n",
       "  </tbody>\n",
       "</table>\n",
       "</div>"
      ],
      "text/plain": [
       "                                           headlines  \\\n",
       "0  RBI revises definition of politically-exposed ...   \n",
       "1  NDTV Q2 net profit falls 57.4% to Rs 5.55 cror...   \n",
       "2  Akasa Air ‘well capitalised’, can grow much fa...   \n",
       "3  India’s current account deficit declines sharp...   \n",
       "4  States borrowing cost soars to 7.68%, highest ...   \n",
       "\n",
       "                                         description  \\\n",
       "0  The central bank has also asked chairpersons a...   \n",
       "1  NDTV's consolidated revenue from operations wa...   \n",
       "2  The initial share sale will be open for public...   \n",
       "3  The current account deficit (CAD) was 3.8 per ...   \n",
       "4  The prices shot up reflecting the overall high...   \n",
       "\n",
       "                                             content  \\\n",
       "0  The Reserve Bank of India (RBI) has changed th...   \n",
       "1  Broadcaster New Delhi Television Ltd on Monday...   \n",
       "2  Homegrown server maker Netweb Technologies Ind...   \n",
       "3  India’s current account deficit declined sharp...   \n",
       "4  States have been forced to pay through their n...   \n",
       "\n",
       "                                                 url  category  \n",
       "0  https://indianexpress.com/article/business/ban...  business  \n",
       "1  https://indianexpress.com/article/business/com...  business  \n",
       "2  https://indianexpress.com/article/business/mar...  business  \n",
       "3  https://indianexpress.com/article/business/eco...  business  \n",
       "4  https://indianexpress.com/article/business/eco...  business  "
      ]
     },
     "metadata": {},
     "output_type": "display_data"
    },
    {
     "data": {
      "text/html": [
       "<div>\n",
       "<style scoped>\n",
       "    .dataframe tbody tr th:only-of-type {\n",
       "        vertical-align: middle;\n",
       "    }\n",
       "\n",
       "    .dataframe tbody tr th {\n",
       "        vertical-align: top;\n",
       "    }\n",
       "\n",
       "    .dataframe thead th {\n",
       "        text-align: right;\n",
       "    }\n",
       "</style>\n",
       "<table border=\"1\" class=\"dataframe\">\n",
       "  <thead>\n",
       "    <tr style=\"text-align: right;\">\n",
       "      <th></th>\n",
       "      <th>headlines</th>\n",
       "      <th>description</th>\n",
       "      <th>content</th>\n",
       "      <th>url</th>\n",
       "      <th>category</th>\n",
       "    </tr>\n",
       "  </thead>\n",
       "  <tbody>\n",
       "    <tr>\n",
       "      <th>0</th>\n",
       "      <td>NLC India wins contract for power supply to Ra...</td>\n",
       "      <td>State-owned firm NLC India Ltd (NLCIL) on Mond...</td>\n",
       "      <td>State-owned firm NLC India Ltd (NLCIL) on Mond...</td>\n",
       "      <td>https://indianexpress.com/article/business/com...</td>\n",
       "      <td>business</td>\n",
       "    </tr>\n",
       "    <tr>\n",
       "      <th>1</th>\n",
       "      <td>SBI Clerk prelims exams dates announced; admit...</td>\n",
       "      <td>SBI Clerk Prelims Exam: The SBI Clerk prelims ...</td>\n",
       "      <td>SBI Clerk Prelims Exam: The State Bank of Indi...</td>\n",
       "      <td>https://indianexpress.com/article/education/sb...</td>\n",
       "      <td>education</td>\n",
       "    </tr>\n",
       "    <tr>\n",
       "      <th>2</th>\n",
       "      <td>Golden Globes: Michelle Yeoh, Will Ferrell, An...</td>\n",
       "      <td>Barbie is the top nominee this year, followed ...</td>\n",
       "      <td>Michelle Yeoh, Will Ferrell, Angela Bassett an...</td>\n",
       "      <td>https://indianexpress.com/article/entertainmen...</td>\n",
       "      <td>entertainment</td>\n",
       "    </tr>\n",
       "    <tr>\n",
       "      <th>3</th>\n",
       "      <td>OnePlus Nord 3 at Rs 27,999 as part of new pri...</td>\n",
       "      <td>New deal makes the OnePlus Nord 3 an easy purc...</td>\n",
       "      <td>In our review of the OnePlus Nord 3 5G, we pra...</td>\n",
       "      <td>https://indianexpress.com/article/technology/t...</td>\n",
       "      <td>technology</td>\n",
       "    </tr>\n",
       "    <tr>\n",
       "      <th>4</th>\n",
       "      <td>Adani family’s partners used ‘opaque’ funds to...</td>\n",
       "      <td>Citing review of files from multiple tax haven...</td>\n",
       "      <td>Millions of dollars were invested in some publ...</td>\n",
       "      <td>https://indianexpress.com/article/business/ada...</td>\n",
       "      <td>business</td>\n",
       "    </tr>\n",
       "  </tbody>\n",
       "</table>\n",
       "</div>"
      ],
      "text/plain": [
       "                                           headlines  \\\n",
       "0  NLC India wins contract for power supply to Ra...   \n",
       "1  SBI Clerk prelims exams dates announced; admit...   \n",
       "2  Golden Globes: Michelle Yeoh, Will Ferrell, An...   \n",
       "3  OnePlus Nord 3 at Rs 27,999 as part of new pri...   \n",
       "4  Adani family’s partners used ‘opaque’ funds to...   \n",
       "\n",
       "                                         description  \\\n",
       "0  State-owned firm NLC India Ltd (NLCIL) on Mond...   \n",
       "1  SBI Clerk Prelims Exam: The SBI Clerk prelims ...   \n",
       "2  Barbie is the top nominee this year, followed ...   \n",
       "3  New deal makes the OnePlus Nord 3 an easy purc...   \n",
       "4  Citing review of files from multiple tax haven...   \n",
       "\n",
       "                                             content  \\\n",
       "0  State-owned firm NLC India Ltd (NLCIL) on Mond...   \n",
       "1  SBI Clerk Prelims Exam: The State Bank of Indi...   \n",
       "2  Michelle Yeoh, Will Ferrell, Angela Bassett an...   \n",
       "3  In our review of the OnePlus Nord 3 5G, we pra...   \n",
       "4  Millions of dollars were invested in some publ...   \n",
       "\n",
       "                                                 url       category  \n",
       "0  https://indianexpress.com/article/business/com...       business  \n",
       "1  https://indianexpress.com/article/education/sb...      education  \n",
       "2  https://indianexpress.com/article/entertainmen...  entertainment  \n",
       "3  https://indianexpress.com/article/technology/t...     technology  \n",
       "4  https://indianexpress.com/article/business/ada...       business  "
      ]
     },
     "metadata": {},
     "output_type": "display_data"
    }
   ],
   "source": [
    "train = pd.read_csv(\"Data/processed/train.csv\")\n",
    "test = pd.read_csv(\"Data/processed/test.csv\")\n",
    "\n",
    "# Applying our post inspection changes\n",
    "train.dropna(inplace=True)\n",
    "test.dropna(inplace=True)\n",
    "\n",
    "display(train.head(), test.head())"
   ]
  },
  {
   "cell_type": "markdown",
   "id": "86b30b9e",
   "metadata": {},
   "source": [
    "## 🧹 3. Data Preprocessing\n",
    "\n",
    "Before training the model, it’s essential to clean and prepare the text data.  \n",
    "Raw news articles often contain noise such as punctuation, numbers, HTML tags, or stopwords that do not contribute meaningfully to classification.\n",
    "\n",
    "### 🧠 Preprocessing Steps:\n",
    "1. **Text Cleaning** – remove punctuation, symbols, URLs, and convert text to lowercase.  \n",
    "2. **Tokenization** – split the text into individual words or tokens.  \n",
    "3. **Stopword Removal** – remove common words (like *the, and, is*) that add little predictive value.  \n",
    "4. **Lemmatization/Stemming** – reduce words to their base or root form (e.g., “running” → “run”).  \n",
    "5. **Combine Features** – merge `headlines`, `description`, and `content` columns into one unified text field called `data`.\n",
    "\n",
    "These steps ensure that the text is standardized and suitable for feature extraction using **TF-IDF vectorization** later in the workflow.\n"
   ]
  },
  {
   "cell_type": "code",
   "execution_count": 27,
   "id": "dc69085f",
   "metadata": {},
   "outputs": [
    {
     "data": {
      "text/html": [
       "<div>\n",
       "<style scoped>\n",
       "    .dataframe tbody tr th:only-of-type {\n",
       "        vertical-align: middle;\n",
       "    }\n",
       "\n",
       "    .dataframe tbody tr th {\n",
       "        vertical-align: top;\n",
       "    }\n",
       "\n",
       "    .dataframe thead th {\n",
       "        text-align: right;\n",
       "    }\n",
       "</style>\n",
       "<table border=\"1\" class=\"dataframe\">\n",
       "  <thead>\n",
       "    <tr style=\"text-align: right;\">\n",
       "      <th></th>\n",
       "      <th>data</th>\n",
       "      <th>category</th>\n",
       "    </tr>\n",
       "  </thead>\n",
       "  <tbody>\n",
       "    <tr>\n",
       "      <th>0</th>\n",
       "      <td>RBI revises definition of politically-exposed ...</td>\n",
       "      <td>business</td>\n",
       "    </tr>\n",
       "    <tr>\n",
       "      <th>1</th>\n",
       "      <td>NDTV Q2 net profit falls 57.4% to Rs 5.55 cror...</td>\n",
       "      <td>business</td>\n",
       "    </tr>\n",
       "    <tr>\n",
       "      <th>2</th>\n",
       "      <td>Akasa Air ‘well capitalised’, can grow much fa...</td>\n",
       "      <td>business</td>\n",
       "    </tr>\n",
       "    <tr>\n",
       "      <th>3</th>\n",
       "      <td>India’s current account deficit declines sharp...</td>\n",
       "      <td>business</td>\n",
       "    </tr>\n",
       "    <tr>\n",
       "      <th>4</th>\n",
       "      <td>States borrowing cost soars to 7.68%, highest ...</td>\n",
       "      <td>business</td>\n",
       "    </tr>\n",
       "  </tbody>\n",
       "</table>\n",
       "</div>"
      ],
      "text/plain": [
       "                                                data  category\n",
       "0  RBI revises definition of politically-exposed ...  business\n",
       "1  NDTV Q2 net profit falls 57.4% to Rs 5.55 cror...  business\n",
       "2  Akasa Air ‘well capitalised’, can grow much fa...  business\n",
       "3  India’s current account deficit declines sharp...  business\n",
       "4  States borrowing cost soars to 7.68%, highest ...  business"
      ]
     },
     "metadata": {},
     "output_type": "display_data"
    },
    {
     "data": {
      "text/html": [
       "<div>\n",
       "<style scoped>\n",
       "    .dataframe tbody tr th:only-of-type {\n",
       "        vertical-align: middle;\n",
       "    }\n",
       "\n",
       "    .dataframe tbody tr th {\n",
       "        vertical-align: top;\n",
       "    }\n",
       "\n",
       "    .dataframe thead th {\n",
       "        text-align: right;\n",
       "    }\n",
       "</style>\n",
       "<table border=\"1\" class=\"dataframe\">\n",
       "  <thead>\n",
       "    <tr style=\"text-align: right;\">\n",
       "      <th></th>\n",
       "      <th>data</th>\n",
       "      <th>category</th>\n",
       "    </tr>\n",
       "  </thead>\n",
       "  <tbody>\n",
       "    <tr>\n",
       "      <th>0</th>\n",
       "      <td>NLC India wins contract for power supply to Ra...</td>\n",
       "      <td>business</td>\n",
       "    </tr>\n",
       "    <tr>\n",
       "      <th>1</th>\n",
       "      <td>SBI Clerk prelims exams dates announced; admit...</td>\n",
       "      <td>education</td>\n",
       "    </tr>\n",
       "    <tr>\n",
       "      <th>2</th>\n",
       "      <td>Golden Globes: Michelle Yeoh, Will Ferrell, An...</td>\n",
       "      <td>entertainment</td>\n",
       "    </tr>\n",
       "    <tr>\n",
       "      <th>3</th>\n",
       "      <td>OnePlus Nord 3 at Rs 27,999 as part of new pri...</td>\n",
       "      <td>technology</td>\n",
       "    </tr>\n",
       "    <tr>\n",
       "      <th>4</th>\n",
       "      <td>Adani family’s partners used ‘opaque’ funds to...</td>\n",
       "      <td>business</td>\n",
       "    </tr>\n",
       "  </tbody>\n",
       "</table>\n",
       "</div>"
      ],
      "text/plain": [
       "                                                data       category\n",
       "0  NLC India wins contract for power supply to Ra...       business\n",
       "1  SBI Clerk prelims exams dates announced; admit...      education\n",
       "2  Golden Globes: Michelle Yeoh, Will Ferrell, An...  entertainment\n",
       "3  OnePlus Nord 3 at Rs 27,999 as part of new pri...     technology\n",
       "4  Adani family’s partners used ‘opaque’ funds to...       business"
      ]
     },
     "metadata": {},
     "output_type": "display_data"
    }
   ],
   "source": [
    "train['data'] = train['headlines'] + train['category'] + train['content']\n",
    "test['data'] = test['headlines'] + test['category'] + test['content'] \n",
    "\n",
    "train = train[['data', 'category']]\n",
    "test = test[['data', 'category']]\n",
    "\n",
    "display(train.head(), test.head())"
   ]
  },
  {
   "cell_type": "code",
   "execution_count": 28,
   "id": "a6daa482",
   "metadata": {},
   "outputs": [],
   "source": [
    "# 1. Improved Preprocessing Function\n",
    "\n",
    "lemmatizer = WordNetLemmatizer()\n",
    "stop_words = set(stopwords.words('english'))\n",
    "\n",
    "def process_text_pro(text: str) -> str:\n",
    "    # 1. Lowercase\n",
    "    text = text.lower()\n",
    "    # 2. Remove URLs, mentions, hashtags\n",
    "    text = re.sub(r\"http\\S+|www\\S+|@\\w+|#\\w+\", \" \", text)\n",
    "    # 3. Remove non-alphabetic characters (keep spaces)\n",
    "    text = re.sub(r'[^a-z\\s]', ' ', text)\n",
    "    # 4. Collapse multiple spaces\n",
    "    text = re.sub(r'\\s+', ' ', text).strip()\n",
    "    # 5. Tokenize\n",
    "    tokens = word_tokenize(text)\n",
    "    # 6. Remove stopwords\n",
    "    tokens = [word for word in tokens if word not in stop_words]\n",
    "    # 7. Lemmatize\n",
    "    tokens = [lemmatizer.lemmatize(word) for word in tokens]\n",
    "    return ' '.join(tokens)\n",
    "\n",
    "train['data'] = train['data'].apply(process_text_pro)\n",
    "test['data'] = test['data'].apply(process_text_pro)"
   ]
  },
  {
   "cell_type": "markdown",
   "id": "aecb17a8",
   "metadata": {},
   "source": [
    "## ⚙️ 4. Feature Engineering and Model Training\n",
    "\n",
    "With clean text data, the next step is to transform it into a numerical format that machine learning models can understand.  \n",
    "We achieve this using **TF-IDF (Term Frequency–Inverse Document Frequency)**, which measures how important each word or phrase is within an article relative to the entire dataset.\n",
    "\n",
    "### 🔧 Process:\n",
    "- Initialize a `TfidfVectorizer` with up to 5,000 features and a mix of unigrams and bigrams.  \n",
    "- Fit and transform the training text into a sparse matrix representation.  \n",
    "- Apply the same transformation to the test set using the trained vectorizer.  \n",
    "- Train a **Logistic Regression** classifier on the TF-IDF features.\n",
    "\n",
    "### 🧩 Why Logistic Regression?\n",
    "- It’s simple, efficient, and interpretable.  \n",
    "- Performs well for high-dimensional, sparse text data.  \n",
    "- Allows access to probability estimates, which can be displayed as “confidence” in the Streamlit app.\n",
    "\n",
    "At the end of this section, the trained model and vectorizer are saved as `model_and_vectorizer.pkl` for use in deployment.\n"
   ]
  },
  {
   "cell_type": "code",
   "execution_count": 29,
   "id": "8f8b2f18",
   "metadata": {},
   "outputs": [
    {
     "name": "stdout",
     "output_type": "stream",
     "text": [
      "TF-IDF Matrix Shape: (5520, 5000)\n",
      "Vocabulary: ['aadhaar' 'aamir' 'aamir khan' ... 'zoom' 'zoya' 'zoya akhtar']\n"
     ]
    }
   ],
   "source": [
    "X_train = train['data']\n",
    "y_train = train['category']\n",
    "\n",
    "X_test = test['data']\n",
    "y_test = test['category']\n",
    "\n",
    "# Initialise TfidfVectorizer\n",
    "tfidf_vectorizer = TfidfVectorizer(max_features=5000, ngram_range=(1, 2))  # Unigrams and bigrams; adjust max_features as needed\n",
    "\n",
    "# Fit and transform the text data\n",
    "X_tfidf = tfidf_vectorizer.fit_transform(X_train)\n",
    "Xt_tfidf = tfidf_vectorizer.transform(X_test)\n",
    "\n",
    "# Display the shape of the resulting sparse matrix\n",
    "print(f\"TF-IDF Matrix Shape: {X_tfidf.shape}\")\n",
    "\n",
    "# Display the vocabulary (optional)\n",
    "print(\"Vocabulary:\", tfidf_vectorizer.get_feature_names_out())\n",
    "\n",
    "# Initialise the Logistic Regression model\n",
    "model = LogisticRegression(max_iter=1000, random_state=42)"
   ]
  },
  {
   "cell_type": "markdown",
   "id": "85386656",
   "metadata": {},
   "source": [
    "## 📊 5. Model Evaluation and Results\n",
    "\n",
    "After training, the model’s performance is assessed on unseen test data to measure its generalization ability.\n",
    "\n",
    "### ⚖️ Evaluation Metrics:\n",
    "- **Accuracy** – the percentage of correctly classified articles.  \n",
    "- **Precision, Recall, F1-score** – balance between correctness and completeness for each category.  \n",
    "- **Confusion Matrix** – visual representation of true vs. predicted labels to identify common misclassifications.\n",
    "\n",
    "### 🔍 Interpretation:\n",
    "The classification report and confusion matrix help assess where the model performs well and where improvements could be made.  \n",
    "Minor confusion between *Business* and *Technology* articles, for example, is expected due to overlapping language.\n",
    "\n",
    "The strong diagonal pattern in the confusion matrix confirms the model is accurate, reliable, and ready for deployment.\n"
   ]
  },
  {
   "cell_type": "code",
   "execution_count": 30,
   "id": "2e2b757a",
   "metadata": {},
   "outputs": [
    {
     "name": "stdout",
     "output_type": "stream",
     "text": [
      "Training Accuracy: 0.99\n",
      "Validation Accuracy: 0.98\n",
      "Classification Report:\n",
      "                precision    recall  f1-score   support\n",
      "\n",
      "     business       0.98      0.96      0.97       400\n",
      "    education       1.00      0.99      0.99       400\n",
      "entertainment       1.00      0.98      0.99       400\n",
      "   technology       0.99      0.98      0.98       400\n",
      "       sports       0.93      0.98      0.96       400\n",
      "\n",
      "     accuracy                           0.98      2000\n",
      "    macro avg       0.98      0.98      0.98      2000\n",
      " weighted avg       0.98      0.98      0.98      2000\n",
      "\n"
     ]
    }
   ],
   "source": [
    "# Train the model on the training set\n",
    "model.fit(X_tfidf, y_train)\n",
    "\n",
    "# Print training accuracy\n",
    "train_accuracy = model.score(X_tfidf, y_train)\n",
    "print(f\"Training Accuracy: {train_accuracy:.2f}\")\n",
    "\n",
    "# Make predictions on the validation set\n",
    "y_pred = model.predict(Xt_tfidf)\n",
    "\n",
    "# Compute validation accuracy\n",
    "test_accuracy = accuracy_score(y_test, y_pred)\n",
    "print(f\"Validation Accuracy: {test_accuracy:.2f}\")\n",
    "\n",
    "# Generate a classification report\n",
    "print(\"Classification Report:\\n\", classification_report(y_test, y_pred, target_names=y_test.unique()))"
   ]
  },
  {
   "cell_type": "markdown",
   "id": "8f9de8b6",
   "metadata": {},
   "source": [
    "## 🧩 6. Confusion Matrix\n",
    "A confusion matrix shows how well your model predicts each category compared to the actual (true) labels.\n",
    "Each row represents the true category and each column represents the predicted category.\n",
    "\n",
    "Diagonal values (top left to bottom right) → correct predictions\n",
    "\n",
    "Off-diagonal values → misclassifications"
   ]
  },
  {
   "cell_type": "code",
   "execution_count": 31,
   "id": "de72d2b1",
   "metadata": {},
   "outputs": [
    {
     "data": {
      "image/png": "[encoded data removed]",
      "text/plain": [
       "<Figure size 800x600 with 2 Axes>"
      ]
     },
     "metadata": {},
     "output_type": "display_data"
    }
   ],
   "source": [
    "# Confusion Matrix\n",
    "import seaborn as sns\n",
    "import matplotlib.pyplot as plt\n",
    "from sklearn.metrics import confusion_matrix\n",
    "\n",
    "cm = confusion_matrix(y_test, y_pred, labels=model.classes_)\n",
    "plt.figure(figsize=(8, 6))\n",
    "sns.heatmap(cm, annot=True, fmt='d', cmap='Blues',\n",
    "            xticklabels=model.classes_,\n",
    "            yticklabels=model.classes_)\n",
    "plt.title(\"Confusion Matrix\")\n",
    "plt.xlabel(\"Predicted Category\")\n",
    "plt.ylabel(\"True Category\")\n",
    "plt.show()\n"
   ]
  },
  {
   "cell_type": "markdown",
   "id": "87662d78",
   "metadata": {},
   "source": [
    "## 📊 Model Performance Summary and Confusion Matrix Interpretation\n",
    "\n",
    "The confusion matrix below provides a detailed view of how the model performed on each category.  \n",
    "Each row represents the **true class**, while each column shows the **predicted class**.  \n",
    "Values along the diagonal indicate correct predictions, and off-diagonal values represent misclassifications.\n",
    "\n",
    "### 🔍 Key Observations:\n",
    "- The model achieves **consistently high accuracy across all categories**, as shown by the strong diagonal pattern.\n",
    "- **Business** and **Technology** articles show slight overlap — this is expected because many technology topics relate to business and industry.\n",
    "- **Education**, **Entertainment**, and **Sports** are classified with exceptional precision, showing that the model generalizes well.\n",
    "- The overall result confirms that the model is well-balanced and performs reliably on unseen data.\n",
    "\n",
    "### 🧠 Why This Matters:\n",
    "The confusion matrix helps visualize where the model performs best and where it might confuse similar categories.  \n",
    "It’s a valuable diagnostic tool for understanding **strengths, weaknesses, and opportunities for improvement** before deploying the model.\n"
   ]
  },
  {
   "cell_type": "markdown",
   "id": "03b80644",
   "metadata": {},
   "source": [
    "## 🧩 7. Experiment Tracking with MLflow\n",
    "\n",
    "To make our work reproducible and traceable, we use **MLflow** to log model training experiments.  \n",
    "This enables us to compare different runs, record parameters and metrics, and store the model artifacts.\n",
    "\n",
    "### 🎯 Why Use MLflow?\n",
    "- Provides experiment tracking and version control for ML models  \n",
    "- Records hyperparameters and performance metrics automatically  \n",
    "- Simplifies collaboration and reproducibility across environments\n",
    "\n",
    "### 📊 What We’ll Log:\n",
    "- Model type (Logistic Regression)  \n",
    "- Vectorizer configuration (TF-IDF with n-grams and max features)  \n",
    "- Key metrics such as accuracy  \n",
    "- Trained model artifact for future reuse"
   ]
  },
  {
   "cell_type": "code",
   "execution_count": 34,
   "id": "e75483c0",
   "metadata": {},
   "outputs": [
    {
     "ename": "MlflowException",
     "evalue": "When an mlflow-artifacts URI was supplied, the tracking URI must be a valid http or https URI, but it was currently set to file:///C:/Users/lbarrett/@Workspace/DataScience%20Course/Module_7_NPL/NLP%20Project/2501PTDS_Classification_Project/mlruns. Perhaps you forgot to set the tracking URI to the running MLflow server. To set the tracking URI, use either of the following methods:\n1. Set the MLFLOW_TRACKING_URI environment variable to the desired tracking URI. `export MLFLOW_TRACKING_URI=http://localhost:5000`\n2. Set the tracking URI programmatically by calling `mlflow.set_tracking_uri`. `mlflow.set_tracking_uri('http://localhost:5000')`",
     "output_type": "error",
     "traceback": [
      "\u001b[31m---------------------------------------------------------------------------\u001b[39m",
      "\u001b[31mMlflowException\u001b[39m                           Traceback (most recent call last)",
      "\u001b[36mCell\u001b[39m\u001b[36m \u001b[39m\u001b[32mIn[34]\u001b[39m\u001b[32m, line 43\u001b[39m\n\u001b[32m     41\u001b[39m     \u001b[38;5;66;03m# Save confusion matrix plot and log it to MLflow\u001b[39;00m\n\u001b[32m     42\u001b[39m     plt.savefig(\u001b[33m\"\u001b[39m\u001b[33mconfusion_matrix.png\u001b[39m\u001b[33m\"\u001b[39m)\n\u001b[32m---> \u001b[39m\u001b[32m43\u001b[39m     \u001b[43mmlflow\u001b[49m\u001b[43m.\u001b[49m\u001b[43mlog_artifact\u001b[49m\u001b[43m(\u001b[49m\u001b[33;43m\"\u001b[39;49m\u001b[33;43mconfusion_matrix.png\u001b[39;49m\u001b[33;43m\"\u001b[39;49m\u001b[43m)\u001b[49m\n\u001b[32m     45\u001b[39m \u001b[38;5;28mprint\u001b[39m(\u001b[33m\"\u001b[39m\u001b[33m✅ MLflow experiment and confusion matrix logged successfully!\u001b[39m\u001b[33m\"\u001b[39m)\n\u001b[32m     47\u001b[39m \u001b[38;5;66;03m# To view the experiment UI:\u001b[39;00m\n\u001b[32m     48\u001b[39m \u001b[38;5;66;03m# 1. Open a terminal or command prompt\u001b[39;00m\n\u001b[32m     49\u001b[39m \u001b[38;5;66;03m# 2. Run: mlflow ui\u001b[39;00m\n\u001b[32m     50\u001b[39m \u001b[38;5;66;03m# 3. Go to http://localhost:5000 in your browser\u001b[39;00m\n",
      "\u001b[36mFile \u001b[39m\u001b[32mc:\\Users\\lbarrett\\@Workspace\\DataScience Course\\Module_7_NPL\\NLP Project\\2501PTDS_Classification_Project\\venv\\Lib\\site-packages\\mlflow\\tracking\\fluent.py:1445\u001b[39m, in \u001b[36mlog_artifact\u001b[39m\u001b[34m(local_path, artifact_path, run_id)\u001b[39m\n\u001b[32m   1415\u001b[39m \u001b[38;5;250m\u001b[39m\u001b[33;03m\"\"\"\u001b[39;00m\n\u001b[32m   1416\u001b[39m \u001b[33;03mLog a local file or directory as an artifact of the currently active run. If no run is\u001b[39;00m\n\u001b[32m   1417\u001b[39m \u001b[33;03mactive, this method will create a new active run.\u001b[39;00m\n\u001b[32m   (...)\u001b[39m\u001b[32m   1442\u001b[39m \u001b[33;03m            mlflow.log_artifact(path)\u001b[39;00m\n\u001b[32m   1443\u001b[39m \u001b[33;03m\"\"\"\u001b[39;00m\n\u001b[32m   1444\u001b[39m run_id = run_id \u001b[38;5;129;01mor\u001b[39;00m _get_or_start_run().info.run_id\n\u001b[32m-> \u001b[39m\u001b[32m1445\u001b[39m \u001b[43mMlflowClient\u001b[49m\u001b[43m(\u001b[49m\u001b[43m)\u001b[49m\u001b[43m.\u001b[49m\u001b[43mlog_artifact\u001b[49m\u001b[43m(\u001b[49m\u001b[43mrun_id\u001b[49m\u001b[43m,\u001b[49m\u001b[43m \u001b[49m\u001b[43mlocal_path\u001b[49m\u001b[43m,\u001b[49m\u001b[43m \u001b[49m\u001b[43martifact_path\u001b[49m\u001b[43m)\u001b[49m\n",
      "\u001b[36mFile \u001b[39m\u001b[32mc:\\Users\\lbarrett\\@Workspace\\DataScience Course\\Module_7_NPL\\NLP Project\\2501PTDS_Classification_Project\\venv\\Lib\\site-packages\\mlflow\\tracking\\client.py:2533\u001b[39m, in \u001b[36mMlflowClient.log_artifact\u001b[39m\u001b[34m(self, run_id, local_path, artifact_path)\u001b[39m\n\u001b[32m   2529\u001b[39m \u001b[38;5;28;01mif\u001b[39;00m run_id.startswith(TRACE_REQUEST_ID_PREFIX):\n\u001b[32m   2530\u001b[39m     \u001b[38;5;28;01mraise\u001b[39;00m MlflowException(\n\u001b[32m   2531\u001b[39m         \u001b[33mf\u001b[39m\u001b[33m\"\u001b[39m\u001b[33mInvalid run id: \u001b[39m\u001b[38;5;132;01m{\u001b[39;00mrun_id\u001b[38;5;132;01m}\u001b[39;00m\u001b[33m. `log_artifact` run id must map to a valid run.\u001b[39m\u001b[33m\"\u001b[39m\n\u001b[32m   2532\u001b[39m     )\n\u001b[32m-> \u001b[39m\u001b[32m2533\u001b[39m \u001b[38;5;28;43mself\u001b[39;49m\u001b[43m.\u001b[49m\u001b[43m_tracking_client\u001b[49m\u001b[43m.\u001b[49m\u001b[43mlog_artifact\u001b[49m\u001b[43m(\u001b[49m\u001b[43mrun_id\u001b[49m\u001b[43m,\u001b[49m\u001b[43m \u001b[49m\u001b[43mlocal_path\u001b[49m\u001b[43m,\u001b[49m\u001b[43m \u001b[49m\u001b[43martifact_path\u001b[49m\u001b[43m)\u001b[49m\n",
      "\u001b[36mFile \u001b[39m\u001b[32mc:\\Users\\lbarrett\\@Workspace\\DataScience Course\\Module_7_NPL\\NLP Project\\2501PTDS_Classification_Project\\venv\\Lib\\site-packages\\mlflow\\tracking\\_tracking_service\\client.py:667\u001b[39m, in \u001b[36mTrackingServiceClient.log_artifact\u001b[39m\u001b[34m(self, run_id, local_path, artifact_path)\u001b[39m\n\u001b[32m    658\u001b[39m \u001b[38;5;28;01mdef\u001b[39;00m\u001b[38;5;250m \u001b[39m\u001b[34mlog_artifact\u001b[39m(\u001b[38;5;28mself\u001b[39m, run_id, local_path, artifact_path=\u001b[38;5;28;01mNone\u001b[39;00m):\n\u001b[32m    659\u001b[39m \u001b[38;5;250m    \u001b[39m\u001b[33;03m\"\"\"\u001b[39;00m\n\u001b[32m    660\u001b[39m \u001b[33;03m    Write a local file or directory to the remote ``artifact_uri``.\u001b[39;00m\n\u001b[32m    661\u001b[39m \n\u001b[32m   (...)\u001b[39m\u001b[32m    665\u001b[39m \u001b[33;03m        artifact_path: If provided, the directory in ``artifact_uri`` to write to.\u001b[39;00m\n\u001b[32m    666\u001b[39m \u001b[33;03m    \"\"\"\u001b[39;00m\n\u001b[32m--> \u001b[39m\u001b[32m667\u001b[39m     artifact_repo = \u001b[38;5;28;43mself\u001b[39;49m\u001b[43m.\u001b[49m\u001b[43m_get_artifact_repo\u001b[49m\u001b[43m(\u001b[49m\u001b[43mrun_id\u001b[49m\u001b[43m)\u001b[49m\n\u001b[32m    668\u001b[39m     \u001b[38;5;28;01mif\u001b[39;00m os.path.isdir(local_path):\n\u001b[32m    669\u001b[39m         dir_name = os.path.basename(os.path.normpath(local_path))\n",
      "\u001b[36mFile \u001b[39m\u001b[32mc:\\Users\\lbarrett\\@Workspace\\DataScience Course\\Module_7_NPL\\NLP Project\\2501PTDS_Classification_Project\\venv\\Lib\\site-packages\\mlflow\\tracking\\_tracking_service\\client.py:650\u001b[39m, in \u001b[36mTrackingServiceClient._get_artifact_repo\u001b[39m\u001b[34m(self, resource_id, resource)\u001b[39m\n\u001b[32m    645\u001b[39m     \u001b[38;5;28;01mraise\u001b[39;00m \u001b[38;5;167;01mValueError\u001b[39;00m(\u001b[33mf\u001b[39m\u001b[33m\"\u001b[39m\u001b[33mUnexpected resource type \u001b[39m\u001b[38;5;132;01m{\u001b[39;00mresource\u001b[38;5;132;01m!r}\u001b[39;00m\u001b[33m.\u001b[39m\u001b[33m\"\u001b[39m)\n\u001b[32m    647\u001b[39m artifact_uri = add_databricks_profile_info_to_artifact_uri(\n\u001b[32m    648\u001b[39m     artifact_location, \u001b[38;5;28mself\u001b[39m.tracking_uri\n\u001b[32m    649\u001b[39m )\n\u001b[32m--> \u001b[39m\u001b[32m650\u001b[39m artifact_repo = \u001b[43mget_artifact_repository\u001b[49m\u001b[43m(\u001b[49m\u001b[43martifact_uri\u001b[49m\u001b[43m)\u001b[49m\n\u001b[32m    651\u001b[39m \u001b[38;5;66;03m# Cache the artifact repo to avoid a future network call, removing the oldest\u001b[39;00m\n\u001b[32m    652\u001b[39m \u001b[38;5;66;03m# entry in the cache if there are too many elements\u001b[39;00m\n\u001b[32m    653\u001b[39m \u001b[38;5;28;01mif\u001b[39;00m \u001b[38;5;28mlen\u001b[39m(utils._artifact_repos_cache) > \u001b[32m1024\u001b[39m:\n",
      "\u001b[36mFile \u001b[39m\u001b[32mc:\\Users\\lbarrett\\@Workspace\\DataScience Course\\Module_7_NPL\\NLP Project\\2501PTDS_Classification_Project\\venv\\Lib\\site-packages\\mlflow\\store\\artifact\\artifact_repository_registry.py:147\u001b[39m, in \u001b[36mget_artifact_repository\u001b[39m\u001b[34m(artifact_uri, tracking_uri, registry_uri)\u001b[39m\n\u001b[32m    128\u001b[39m \u001b[38;5;28;01mdef\u001b[39;00m\u001b[38;5;250m \u001b[39m\u001b[34mget_artifact_repository\u001b[39m(\n\u001b[32m    129\u001b[39m     artifact_uri: \u001b[38;5;28mstr\u001b[39m, tracking_uri: \u001b[38;5;28mstr\u001b[39m | \u001b[38;5;28;01mNone\u001b[39;00m = \u001b[38;5;28;01mNone\u001b[39;00m, registry_uri: \u001b[38;5;28mstr\u001b[39m | \u001b[38;5;28;01mNone\u001b[39;00m = \u001b[38;5;28;01mNone\u001b[39;00m\n\u001b[32m    130\u001b[39m ) -> ArtifactRepository:\n\u001b[32m    131\u001b[39m \u001b[38;5;250m    \u001b[39m\u001b[33;03m\"\"\"\u001b[39;00m\n\u001b[32m    132\u001b[39m \u001b[33;03m    Get an artifact repository from the registry based on the scheme of artifact_uri\u001b[39;00m\n\u001b[32m    133\u001b[39m \n\u001b[32m   (...)\u001b[39m\u001b[32m    145\u001b[39m \u001b[33;03m        requirements.\u001b[39;00m\n\u001b[32m    146\u001b[39m \u001b[33;03m    \"\"\"\u001b[39;00m\n\u001b[32m--> \u001b[39m\u001b[32m147\u001b[39m     \u001b[38;5;28;01mreturn\u001b[39;00m \u001b[43m_artifact_repository_registry\u001b[49m\u001b[43m.\u001b[49m\u001b[43mget_artifact_repository\u001b[49m\u001b[43m(\u001b[49m\n\u001b[32m    148\u001b[39m \u001b[43m        \u001b[49m\u001b[43martifact_uri\u001b[49m\u001b[43m,\u001b[49m\u001b[43m \u001b[49m\u001b[43mtracking_uri\u001b[49m\u001b[43m,\u001b[49m\u001b[43m \u001b[49m\u001b[43mregistry_uri\u001b[49m\n\u001b[32m    149\u001b[39m \u001b[43m    \u001b[49m\u001b[43m)\u001b[49m\n",
      "\u001b[36mFile \u001b[39m\u001b[32mc:\\Users\\lbarrett\\@Workspace\\DataScience Course\\Module_7_NPL\\NLP Project\\2501PTDS_Classification_Project\\venv\\Lib\\site-packages\\mlflow\\store\\artifact\\artifact_repository_registry.py:83\u001b[39m, in \u001b[36mArtifactRepositoryRegistry.get_artifact_repository\u001b[39m\u001b[34m(self, artifact_uri, tracking_uri, registry_uri)\u001b[39m\n\u001b[32m     78\u001b[39m \u001b[38;5;28;01mif\u001b[39;00m repository \u001b[38;5;129;01mis\u001b[39;00m \u001b[38;5;28;01mNone\u001b[39;00m:\n\u001b[32m     79\u001b[39m     \u001b[38;5;28;01mraise\u001b[39;00m MlflowException(\n\u001b[32m     80\u001b[39m         \u001b[33mf\u001b[39m\u001b[33m\"\u001b[39m\u001b[33mCould not find a registered artifact repository for: \u001b[39m\u001b[38;5;132;01m{\u001b[39;00martifact_uri\u001b[38;5;132;01m}\u001b[39;00m\u001b[33m. \u001b[39m\u001b[33m\"\u001b[39m\n\u001b[32m     81\u001b[39m         \u001b[33mf\u001b[39m\u001b[33m\"\u001b[39m\u001b[33mCurrently registered schemes are: \u001b[39m\u001b[38;5;132;01m{\u001b[39;00m\u001b[38;5;28mlist\u001b[39m(\u001b[38;5;28mself\u001b[39m._registry.keys())\u001b[38;5;132;01m}\u001b[39;00m\u001b[33m\"\u001b[39m\n\u001b[32m     82\u001b[39m     )\n\u001b[32m---> \u001b[39m\u001b[32m83\u001b[39m \u001b[38;5;28;01mreturn\u001b[39;00m \u001b[43mrepository\u001b[49m\u001b[43m(\u001b[49m\u001b[43martifact_uri\u001b[49m\u001b[43m,\u001b[49m\u001b[43m \u001b[49m\u001b[43mtracking_uri\u001b[49m\u001b[43m=\u001b[49m\u001b[43mtracking_uri\u001b[49m\u001b[43m,\u001b[49m\u001b[43m \u001b[49m\u001b[43mregistry_uri\u001b[49m\u001b[43m=\u001b[49m\u001b[43mregistry_uri\u001b[49m\u001b[43m)\u001b[49m\n",
      "\u001b[36mFile \u001b[39m\u001b[32mc:\\Users\\lbarrett\\@Workspace\\DataScience Course\\Module_7_NPL\\NLP Project\\2501PTDS_Classification_Project\\venv\\Lib\\site-packages\\mlflow\\store\\artifact\\mlflow_artifacts_repo.py:55\u001b[39m, in \u001b[36mMlflowArtifactsRepository.__init__\u001b[39m\u001b[34m(self, artifact_uri, tracking_uri, registry_uri)\u001b[39m\n\u001b[32m     50\u001b[39m \u001b[38;5;28;01mdef\u001b[39;00m\u001b[38;5;250m \u001b[39m\u001b[34m__init__\u001b[39m(\n\u001b[32m     51\u001b[39m     \u001b[38;5;28mself\u001b[39m, artifact_uri: \u001b[38;5;28mstr\u001b[39m, tracking_uri: \u001b[38;5;28mstr\u001b[39m | \u001b[38;5;28;01mNone\u001b[39;00m = \u001b[38;5;28;01mNone\u001b[39;00m, registry_uri: \u001b[38;5;28mstr\u001b[39m | \u001b[38;5;28;01mNone\u001b[39;00m = \u001b[38;5;28;01mNone\u001b[39;00m\n\u001b[32m     52\u001b[39m ) -> \u001b[38;5;28;01mNone\u001b[39;00m:\n\u001b[32m     53\u001b[39m     effective_tracking_uri = tracking_uri \u001b[38;5;129;01mor\u001b[39;00m get_tracking_uri()\n\u001b[32m     54\u001b[39m     \u001b[38;5;28msuper\u001b[39m().\u001b[34m__init__\u001b[39m(\n\u001b[32m---> \u001b[39m\u001b[32m55\u001b[39m         \u001b[38;5;28;43mself\u001b[39;49m\u001b[43m.\u001b[49m\u001b[43mresolve_uri\u001b[49m\u001b[43m(\u001b[49m\u001b[43martifact_uri\u001b[49m\u001b[43m,\u001b[49m\u001b[43m \u001b[49m\u001b[43meffective_tracking_uri\u001b[49m\u001b[43m)\u001b[49m, tracking_uri, registry_uri\n\u001b[32m     56\u001b[39m     )\n",
      "\u001b[36mFile \u001b[39m\u001b[32mc:\\Users\\lbarrett\\@Workspace\\DataScience Course\\Module_7_NPL\\NLP Project\\2501PTDS_Classification_Project\\venv\\Lib\\site-packages\\mlflow\\store\\artifact\\mlflow_artifacts_repo.py:70\u001b[39m, in \u001b[36mMlflowArtifactsRepository.resolve_uri\u001b[39m\u001b[34m(cls, artifact_uri, tracking_uri)\u001b[39m\n\u001b[32m     67\u001b[39m _validate_port_mapped_to_hostname(uri_parse)\n\u001b[32m     69\u001b[39m \u001b[38;5;66;03m# Check that tracking uri is http or https\u001b[39;00m\n\u001b[32m---> \u001b[39m\u001b[32m70\u001b[39m \u001b[43m_validate_uri_scheme\u001b[49m\u001b[43m(\u001b[49m\u001b[43mtrack_parse\u001b[49m\u001b[43m)\u001b[49m\n\u001b[32m     72\u001b[39m \u001b[38;5;28;01mif\u001b[39;00m uri_parse.path == \u001b[33m\"\u001b[39m\u001b[33m/\u001b[39m\u001b[33m\"\u001b[39m:  \u001b[38;5;66;03m# root directory; build simple path\u001b[39;00m\n\u001b[32m     73\u001b[39m     resolved = \u001b[33mf\u001b[39m\u001b[33m\"\u001b[39m\u001b[38;5;132;01m{\u001b[39;00mbase_url\u001b[38;5;132;01m}\u001b[39;00m\u001b[38;5;132;01m{\u001b[39;00muri_parse.path\u001b[38;5;132;01m}\u001b[39;00m\u001b[33m\"\u001b[39m\n",
      "\u001b[36mFile \u001b[39m\u001b[32mc:\\Users\\lbarrett\\@Workspace\\DataScience Course\\Module_7_NPL\\NLP Project\\2501PTDS_Classification_Project\\venv\\Lib\\site-packages\\mlflow\\store\\artifact\\mlflow_artifacts_repo.py:35\u001b[39m, in \u001b[36m_validate_uri_scheme\u001b[39m\u001b[34m(parsed_uri)\u001b[39m\n\u001b[32m     33\u001b[39m allowable_schemes = {\u001b[33m\"\u001b[39m\u001b[33mhttp\u001b[39m\u001b[33m\"\u001b[39m, \u001b[33m\"\u001b[39m\u001b[33mhttps\u001b[39m\u001b[33m\"\u001b[39m}\n\u001b[32m     34\u001b[39m \u001b[38;5;28;01mif\u001b[39;00m parsed_uri.scheme \u001b[38;5;129;01mnot\u001b[39;00m \u001b[38;5;129;01min\u001b[39;00m allowable_schemes:\n\u001b[32m---> \u001b[39m\u001b[32m35\u001b[39m     \u001b[38;5;28;01mraise\u001b[39;00m MlflowException(\n\u001b[32m     36\u001b[39m         \u001b[33m\"\u001b[39m\u001b[33mWhen an mlflow-artifacts URI was supplied, the tracking URI must be a valid \u001b[39m\u001b[33m\"\u001b[39m\n\u001b[32m     37\u001b[39m         \u001b[33mf\u001b[39m\u001b[33m\"\u001b[39m\u001b[33mhttp or https URI, but it was currently set to \u001b[39m\u001b[38;5;132;01m{\u001b[39;00mparsed_uri.geturl()\u001b[38;5;132;01m}\u001b[39;00m\u001b[33m. \u001b[39m\u001b[33m\"\u001b[39m\n\u001b[32m     38\u001b[39m         \u001b[33m\"\u001b[39m\u001b[33mPerhaps you forgot to set the tracking URI to the running MLflow server. \u001b[39m\u001b[33m\"\u001b[39m\n\u001b[32m     39\u001b[39m         \u001b[33m\"\u001b[39m\u001b[33mTo set the tracking URI, use either of the following methods:\u001b[39m\u001b[38;5;130;01m\\n\u001b[39;00m\u001b[33m\"\u001b[39m\n\u001b[32m     40\u001b[39m         \u001b[33m\"\u001b[39m\u001b[33m1. Set the MLFLOW_TRACKING_URI environment variable to the desired tracking URI. \u001b[39m\u001b[33m\"\u001b[39m\n\u001b[32m     41\u001b[39m         \u001b[33m\"\u001b[39m\u001b[33m`export MLFLOW_TRACKING_URI=http://localhost:5000`\u001b[39m\u001b[38;5;130;01m\\n\u001b[39;00m\u001b[33m\"\u001b[39m\n\u001b[32m     42\u001b[39m         \u001b[33m\"\u001b[39m\u001b[33m2. Set the tracking URI programmatically by calling `mlflow.set_tracking_uri`. \u001b[39m\u001b[33m\"\u001b[39m\n\u001b[32m     43\u001b[39m         \u001b[33m\"\u001b[39m\u001b[33m`mlflow.set_tracking_uri(\u001b[39m\u001b[33m'\u001b[39m\u001b[33mhttp://localhost:5000\u001b[39m\u001b[33m'\u001b[39m\u001b[33m)`\u001b[39m\u001b[33m\"\u001b[39m\n\u001b[32m     44\u001b[39m     )\n",
      "\u001b[31mMlflowException\u001b[39m: When an mlflow-artifacts URI was supplied, the tracking URI must be a valid http or https URI, but it was currently set to file:///C:/Users/lbarrett/@Workspace/DataScience%20Course/Module_7_NPL/NLP%20Project/2501PTDS_Classification_Project/mlruns. Perhaps you forgot to set the tracking URI to the running MLflow server. To set the tracking URI, use either of the following methods:\n1. Set the MLFLOW_TRACKING_URI environment variable to the desired tracking URI. `export MLFLOW_TRACKING_URI=http://localhost:5000`\n2. Set the tracking URI programmatically by calling `mlflow.set_tracking_uri`. `mlflow.set_tracking_uri('http://localhost:5000')`"
     ]
    },
    {
     "data": {
      "image/png": "[encoded data removed]",
      "text/plain": [
       "<Figure size 600x500 with 2 Axes>"
      ]
     },
     "metadata": {},
     "output_type": "display_data"
    }
   ],
   "source": [
    "# --- MLFLOW TRACKING ---\n",
    "\n",
    "# Import mlflow libraries\n",
    "import mlflow\n",
    "import mlflow.sklearn\n",
    "import matplotlib.pyplot as plt\n",
    "import seaborn as sns\n",
    "from sklearn.metrics import confusion_matrix\n",
    "\n",
    "# Ensure MLflow is using a local tracking URI (saves runs in a folder called 'mlruns')\n",
    "mlflow.set_tracking_uri(\"file:///C:/Users/lbarrett/@Workspace/DataScience%20Course/Module_7_NPL/NLP%20Project/2501PTDS_Classification_Project/mlruns\")\n",
    "\n",
    "# Start an MLflow run\n",
    "with mlflow.start_run(run_name=\"News_Classifier_Final\"):\n",
    "    # Log model parameters\n",
    "    mlflow.log_param(\"Model\", \"LogisticRegression\")\n",
    "    mlflow.log_param(\"Vectorizer\", \"TF-IDF (max_features=5000, ngram_range=(1,2))\")\n",
    "    mlflow.log_param(\"Dataset\", \"News Articles (Train/Test split)\")\n",
    "\n",
    "    # Log metrics\n",
    "    mlflow.log_metric(\"Training Accuracy\", float(train_accuracy))\n",
    "    mlflow.log_metric(\"Validation Accuracy\", float(test_accuracy))\n",
    "\n",
    "    # Save the trained model as an artifact\n",
    "    # mlflow.sklearn.save_model(model, \"logged_model\")\n",
    "    #mlflow.log_artifact(\"logged_model\")\n",
    "\n",
    "\n",
    "\n",
    "    # --- Log confusion matrix as an artifact (inside the same MLflow run) ---\n",
    "    cm = confusion_matrix(y_test, y_pred, labels=model.classes_)\n",
    "    plt.figure(figsize=(6, 5))\n",
    "    sns.heatmap(cm, annot=True, fmt='d', cmap='Blues',\n",
    "                xticklabels=model.classes_,\n",
    "                yticklabels=model.classes_)\n",
    "    plt.title(\"Confusion Matrix\")\n",
    "    plt.xlabel(\"Predicted\")\n",
    "    plt.ylabel(\"True\")\n",
    "    plt.tight_layout()\n",
    "\n",
    "    # Save confusion matrix plot and log it to MLflow\n",
    "    plt.savefig(\"confusion_matrix.png\")\n",
    "    mlflow.log_artifact(\"confusion_matrix.png\")\n",
    "\n",
    "print(\"✅ MLflow experiment and confusion matrix logged successfully!\")\n",
    "\n",
    "# To view the experiment UI:\n",
    "# 1. Open a terminal or command prompt\n",
    "# 2. Run: mlflow ui\n",
    "# 3. Go to http://localhost:5000 in your browser"
   ]
  },
  {
   "cell_type": "code",
   "execution_count": null,
   "id": "a1afd421",
   "metadata": {},
   "outputs": [],
   "source": [
    "import pickle"
   ]
  },
  {
   "cell_type": "code",
   "execution_count": null,
   "id": "d144fb4f",
   "metadata": {},
   "outputs": [],
   "source": [
    "import pickle\n",
    "\n",
    "with open('pickled_files/model_and_vectorizer.pkl', 'wb') as f:\n",
    "    pickle.dump({'model': model, 'vectorizer': tfidf_vectorizer}, f)"
   ]
  },
  {
   "cell_type": "code",
   "execution_count": null,
   "id": "fcfb9b34",
   "metadata": {},
   "outputs": [
    {
     "name": "stdout",
     "output_type": "stream",
     "text": [
      "^C\n"
     ]
    }
   ],
   "source": [
    "!streamlit run Streamlit/base_app.py"
   ]
  },
  {
   "cell_type": "code",
   "execution_count": null,
   "id": "ff33aea1",
   "metadata": {},
   "outputs": [],
   "source": [
    "input_text = input(\"Enter your text here: \")"
   ]
  },
  {
   "cell_type": "code",
   "execution_count": null,
   "id": "cf95ab36",
   "metadata": {},
   "outputs": [],
   "source": [
    "pt= process_text_pro(input_text)\n",
    "pt"
   ]
  },
  {
   "cell_type": "code",
   "execution_count": null,
   "id": "af9ddf8a",
   "metadata": {},
   "outputs": [],
   "source": [
    "vect_t = tfidf_vectorizer.transform([pt])"
   ]
  },
  {
   "cell_type": "code",
   "execution_count": null,
   "id": "14d359ac",
   "metadata": {},
   "outputs": [],
   "source": [
    "vect_t"
   ]
  },
  {
   "cell_type": "code",
   "execution_count": null,
   "id": "e47e84ab",
   "metadata": {},
   "outputs": [],
   "source": [
    "model.predict(vect_t)"
   ]
  },
  {
   "cell_type": "code",
   "execution_count": null,
   "id": "b07cd7af",
   "metadata": {},
   "outputs": [],
   "source": [
    "breaker = True\n",
    "\n",
    "while breaker:\n",
    "    input_text = input(\"Enter Text to Classify, Enter End/Quit to end program\")\n",
    "\n",
    "    if input_text.lower() == \"end\" or input_text.lower() == \"quit\":\n",
    "        break\n",
    "    else:\n",
    "        pt = process_text_pro(input_text)\n",
    "        vect_t = tfidf_vectorizer.transform([pt])\n",
    "        p_class = model.predict(vect_t)\n",
    "        print(p_class)"
   ]
  }
 ],
 "metadata": {
  "kernelspec": {
   "display_name": "venv",
   "language": "python",
   "name": "python3"
  },
  "language_info": {
   "codemirror_mode": {
    "name": "ipython",
    "version": 3
   },
   "file_extension": ".py",
   "mimetype": "text/x-python",
   "name": "python",
   "nbconvert_exporter": "python",
   "pygments_lexer": "ipython3",
   "version": "3.12.8"
  }
 },
 "nbformat": 4,
 "nbformat_minor": 5
}
